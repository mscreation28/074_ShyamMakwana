{
  "nbformat": 4,
  "nbformat_minor": 0,
  "metadata": {
    "colab": {
      "name": "074_Lab3_01.ipynb",
      "provenance": [],
      "collapsed_sections": []
    },
    "kernelspec": {
      "name": "python3",
      "display_name": "Python 3"
    },
    "language_info": {
      "name": "python"
    }
  },
  "cells": [
    {
      "cell_type": "code",
      "metadata": {
        "id": "FZmJ7y8faAuW"
      },
      "source": [
        "import numpy as np\n",
        "import pandas as pd\n",
        "import matplotlib.pyplot as plt\n",
        "import sklearn\n",
        "from sklearn import datasets, preprocessing\n",
        "from sklearn.naive_bayes import GaussianNB, MultinomialNB"
      ],
      "execution_count": null,
      "outputs": []
    },
    {
      "cell_type": "code",
      "metadata": {
        "colab": {
          "base_uri": "https://localhost:8080/"
        },
        "id": "g9XPvSzHaM2G",
        "outputId": "8a12c87c-b77c-4a33-e371-565a35c7a2d3"
      },
      "source": [
        "main_data = pd.read_csv(\"Dataset1.csv\")\n",
        "\n",
        "label_encoder = preprocessing.LabelEncoder()\n",
        "Y_rows=None\n",
        "for data_heading in main_data:\n",
        "  if data_heading!=\"Play\":\n",
        "    print(f\"Heading :- {data_heading}\\n\")\n",
        "    \n",
        "    dummy = pd.get_dummies(main_data[data_heading])\n",
        "    \n",
        "    main_data = main_data.drop([data_heading],axis=1)\n",
        "    main_data = pd.concat([main_data,dummy],axis=1)\n",
        "    \n",
        "  else:\n",
        "    Y_rows = label_encoder.fit_transform(main_data[data_heading])\n",
        "    main_data = main_data.drop([data_heading],axis=1)"
      ],
      "execution_count": 17,
      "outputs": [
        {
          "output_type": "stream",
          "name": "stdout",
          "text": [
            "Heading :- Outlook\n",
            "\n",
            "Heading :- Temp\n",
            "\n",
            "Heading :- Humidity\n",
            "\n",
            "Heading :- Wind\n",
            "\n"
          ]
        }
      ]
    },
    {
      "cell_type": "code",
      "metadata": {
        "colab": {
          "base_uri": "https://localhost:8080/"
        },
        "id": "a_28g5L5j80A",
        "outputId": "87ee0f6c-bcda-4f08-e34d-71d8a27f1ed3"
      },
      "source": [
        "print(main_data,Y_rows)"
      ],
      "execution_count": 19,
      "outputs": [
        {
          "output_type": "stream",
          "name": "stdout",
          "text": [
            "    O  R  S  C  H  M  High  Low  Normal  F  T\n",
            "0   0  1  0  0  1  0     0    0       1  1  0\n",
            "1   0  1  0  0  1  0     1    0       0  0  1\n",
            "2   1  0  0  0  1  0     0    0       1  1  0\n",
            "3   0  0  1  0  0  1     0    0       1  1  0\n",
            "4   0  0  1  1  0  0     0    0       1  1  0\n",
            "5   0  0  1  1  0  0     0    1       0  0  1\n",
            "6   1  0  0  1  0  0     0    0       1  0  1\n",
            "7   0  1  0  0  0  1     0    0       1  1  0\n",
            "8   0  1  0  1  0  0     0    1       0  1  0\n",
            "9   0  0  1  0  0  1     1    0       0  1  0\n",
            "10  0  1  0  0  0  1     1    0       0  0  1\n",
            "11  1  0  0  0  0  1     0    1       0  0  1\n",
            "12  1  0  0  0  1  0     0    0       1  1  0\n",
            "13  0  0  1  0  0  1     0    0       1  0  1 [0 0 1 1 1 0 1 0 1 1 1 1 1 0]\n"
          ]
        }
      ]
    },
    {
      "cell_type": "code",
      "metadata": {
        "colab": {
          "base_uri": "https://localhost:8080/"
        },
        "id": "ALyYkLu-bI1B",
        "outputId": "044b9ef3-b6ea-4242-bb97-c521d7db7e7c"
      },
      "source": [
        "from sklearn.model_selection import train_test_split\n",
        "\n",
        "X_train, X_test, Y_train, Y_test = train_test_split(main_data, Y_rows, test_size = 0.30, random_state = 74)\n",
        "\n",
        "model = MultinomialNB()\n",
        "model.fit(X_train, Y_train)\n",
        "\n",
        "Y_predicted = model.predict(X_test)\n",
        "\n",
        "print(X_test)\n",
        "print(Y_predicted)"
      ],
      "execution_count": 21,
      "outputs": [
        {
          "output_type": "stream",
          "name": "stdout",
          "text": [
            "    O  R  S  C  H  M  High  Low  Normal  F  T\n",
            "10  0  1  0  0  0  1     1    0       0  0  1\n",
            "6   1  0  0  1  0  0     0    0       1  0  1\n",
            "2   1  0  0  0  1  0     0    0       1  1  0\n",
            "0   0  1  0  0  1  0     0    0       1  1  0\n",
            "8   0  1  0  1  0  0     0    1       0  1  0\n",
            "[0 1 1 0 0]\n"
          ]
        }
      ]
    },
    {
      "cell_type": "code",
      "metadata": {
        "colab": {
          "base_uri": "https://localhost:8080/"
        },
        "id": "FKHrnbhaayHI",
        "outputId": "27277db7-c373-4f60-e092-17934b24063e"
      },
      "source": [
        "print(f\"Accuracy is {sklearn.metrics.accuracy_score(Y_test, Y_predicted)}\")"
      ],
      "execution_count": 22,
      "outputs": [
        {
          "output_type": "stream",
          "name": "stdout",
          "text": [
            "Accuracy is 0.6\n"
          ]
        }
      ]
    },
    {
      "cell_type": "code",
      "metadata": {
        "colab": {
          "base_uri": "https://localhost:8080/"
        },
        "id": "oscSvmzjcLAo",
        "outputId": "f7fb9e21-8c28-4608-9486-a393c87f786a"
      },
      "source": [
        "precision = sklearn.metrics.precision_score(Y_test, Y_predicted)\n",
        "recall = sklearn.metrics.recall_score(Y_test, Y_predicted)\n",
        "\n",
        "print(f\"Precision = {precision}\")\n",
        "print(f\"Recall = {recall}\")"
      ],
      "execution_count": 23,
      "outputs": [
        {
          "output_type": "stream",
          "name": "stdout",
          "text": [
            "Precision = 1.0\n",
            "Recall = 0.5\n"
          ]
        }
      ]
    },
    {
      "cell_type": "code",
      "metadata": {
        "colab": {
          "base_uri": "https://localhost:8080/"
        },
        "id": "htC7t2gscVs8",
        "outputId": "757a8038-84a8-4c78-dc7e-d09e33018e3f"
      },
      "source": [
        "output = model.predict([[0,1,0,0,1,0,0,0,1,1,0]])\n",
        "print(f\"final prediction :- {output}\")\n",
        "\n",
        "output = model.predict([[1,0,0,0,1,0,0,0,1,1,0]])\n",
        "print(f\"final prediction :- {output}\")\n",
        "\n",
        "output = model.predict([[1,0,0,0,0,1,0,0,1,0,1]])\n",
        "print(f\"final prediction :- {output}\")"
      ],
      "execution_count": 24,
      "outputs": [
        {
          "output_type": "stream",
          "name": "stdout",
          "text": [
            "final prediction :- [0]\n",
            "final prediction :- [1]\n",
            "final prediction :- [1]\n"
          ]
        }
      ]
    }
  ]
}