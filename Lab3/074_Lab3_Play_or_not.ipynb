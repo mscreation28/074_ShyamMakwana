{
  "nbformat": 4,
  "nbformat_minor": 0,
  "metadata": {
    "colab": {
      "name": "074_Lab3_01.ipynb",
      "provenance": [],
      "collapsed_sections": []
    },
    "kernelspec": {
      "name": "python3",
      "display_name": "Python 3"
    },
    "language_info": {
      "name": "python"
    }
  },
  "cells": [
    {
      "cell_type": "code",
      "metadata": {
        "id": "FZmJ7y8faAuW"
      },
      "source": [
        "import numpy as np\n",
        "import pandas as pd\n",
        "import matplotlib.pyplot as plt\n",
        "import sklearn\n",
        "from sklearn import datasets, preprocessing\n",
        "from sklearn.naive_bayes import GaussianNB, MultinomialNB"
      ],
      "execution_count": 10,
      "outputs": []
    },
    {
      "cell_type": "code",
      "metadata": {
        "colab": {
          "base_uri": "https://localhost:8080/"
        },
        "id": "g9XPvSzHaM2G",
        "outputId": "d0ffd83d-f8c1-46a5-9198-af3223718fcd"
      },
      "source": [
        "main_data = pd.read_csv(\"Dataset2.csv\")\n",
        "\n",
        "label_encoder = preprocessing.LabelEncoder()\n",
        "\n",
        "for data in main_data:\n",
        "  print(f\"\\nHeading : {data}\\n\")\n",
        "  print(list(main_data[data]))\n",
        "  main_data[data] = label_encoder.fit_transform(main_data[data])\n",
        "  print(f\"\\nAfter the tranformation of {data}\\n\")\n",
        "  print(list(main_data[data]))"
      ],
      "execution_count": 5,
      "outputs": [
        {
          "output_type": "stream",
          "name": "stdout",
          "text": [
            "\n",
            "Heading : Outlook\n",
            "\n",
            "['R', 'R', 'O', 'S', 'S', 'S', 'O', 'R', 'R', 'S', 'R', 'O', 'O', 'S']\n",
            "\n",
            "After the tranformation of Outlook\n",
            "\n",
            "[1, 1, 0, 2, 2, 2, 0, 1, 1, 2, 1, 0, 0, 2]\n",
            "\n",
            "Heading : Temp\n",
            "\n",
            "['H', 'H', 'H', 'M', 'M', 'M', 'C', 'C', 'C', 'M', 'M', 'M', 'H', 'M']\n",
            "\n",
            "After the tranformation of Temp\n",
            "\n",
            "[1, 1, 1, 2, 2, 2, 0, 0, 0, 2, 2, 2, 1, 2]\n",
            "\n",
            "Heading : Wind\n",
            "\n",
            "['F', 'T', 'F', 'F', 'F', 'T', 'T', 'F', 'F', 'F', 'T', 'T', 'F', 'T']\n",
            "\n",
            "After the tranformation of Wind\n",
            "\n",
            "[0, 1, 0, 0, 0, 1, 1, 0, 0, 0, 1, 1, 0, 1]\n",
            "\n",
            "Heading : Humidity\n",
            "\n",
            "['Normal', 'High', 'Normal', 'Normal', 'Normal', 'Low', 'Normal', 'Normal', 'Low', 'High', 'High', 'Low', 'Normal', 'Normal']\n",
            "\n",
            "After the tranformation of Humidity\n",
            "\n",
            "[2, 0, 2, 2, 2, 1, 2, 2, 1, 0, 0, 1, 2, 2]\n",
            "\n",
            "Heading : Class\n",
            "\n",
            "['N', 'N', 'Y', 'N', 'Y', 'Y', 'Y', 'Y', 'Y', 'Y', 'Y', 'Y', 'Y', 'N']\n",
            "\n",
            "After the tranformation of Class\n",
            "\n",
            "[0, 0, 1, 0, 1, 1, 1, 1, 1, 1, 1, 1, 1, 0]\n"
          ]
        }
      ]
    },
    {
      "cell_type": "code",
      "metadata": {
        "colab": {
          "base_uri": "https://localhost:8080/"
        },
        "id": "L39pgqRkbAcw",
        "outputId": "a5669fbe-c372-494c-f032-cacf6dc11083"
      },
      "source": [
        "combined_features = tuple(zip(org_data[\"Outlook\"], org_data[\"Temp\"], org_data[\"Wind\"], org_data[\"Humidity\"]))\n",
        "print(\"After combined!\")\n",
        "\n",
        "print(\"Outlook, Temp, Wind, Humidity\\n\")\n",
        "for pair in combined_features:\n",
        "    print(pair)"
      ],
      "execution_count": 6,
      "outputs": [
        {
          "output_type": "stream",
          "name": "stdout",
          "text": [
            "After combined!\n",
            "Outlook, Temp, Wind, Humidity\n",
            "\n",
            "(1, 1, 0, 2)\n",
            "(1, 1, 1, 0)\n",
            "(0, 1, 0, 2)\n",
            "(2, 2, 0, 2)\n",
            "(2, 2, 0, 2)\n",
            "(2, 2, 1, 1)\n",
            "(0, 0, 1, 2)\n",
            "(1, 0, 0, 2)\n",
            "(1, 0, 0, 1)\n",
            "(2, 2, 0, 0)\n",
            "(1, 2, 1, 0)\n",
            "(0, 2, 1, 1)\n",
            "(0, 1, 0, 2)\n",
            "(2, 2, 1, 2)\n"
          ]
        }
      ]
    },
    {
      "cell_type": "code",
      "metadata": {
        "colab": {
          "base_uri": "https://localhost:8080/"
        },
        "id": "ALyYkLu-bI1B",
        "outputId": "4c83b3ad-dcf9-47eb-f56f-6c37e7ad0807"
      },
      "source": [
        "from sklearn.model_selection import train_test_split\n",
        "\n",
        "X_train, X_test, Y_train, Y_test = train_test_split(combined_features, org_data[\"Class\"], test_size = 0.10, random_state = 74)\n",
        "\n",
        "model = MultinomialNB()\n",
        "model.fit(X_train, Y_train)\n",
        "\n",
        "Y_predicted = model.predict(X_test)\n",
        "\n",
        "print(Y_predicted)"
      ],
      "execution_count": 7,
      "outputs": [
        {
          "output_type": "stream",
          "name": "stdout",
          "text": [
            "[1 1]\n"
          ]
        }
      ]
    },
    {
      "cell_type": "code",
      "metadata": {
        "colab": {
          "base_uri": "https://localhost:8080/"
        },
        "id": "FKHrnbhaayHI",
        "outputId": "f1ed39c0-35de-4857-c5f5-fe5fcbc12529"
      },
      "source": [
        "print(f\"Accuracy is {sklearn.metrics.accuracy_score(Y_test, Y_predicted)}\")"
      ],
      "execution_count": 11,
      "outputs": [
        {
          "output_type": "stream",
          "name": "stdout",
          "text": [
            "Accuracy is 1.0\n"
          ]
        }
      ]
    },
    {
      "cell_type": "code",
      "metadata": {
        "colab": {
          "base_uri": "https://localhost:8080/"
        },
        "id": "oscSvmzjcLAo",
        "outputId": "2c5d234d-9952-4944-d0bb-3b7903ec9b07"
      },
      "source": [
        "precision = sklearn.metrics.precision_score(Y_test, Y_predicted)\n",
        "recall = sklearn.metrics.recall_score(Y_test, Y_predicted)\n",
        "\n",
        "print(f\"Precision = {precision}\")\n",
        "print(f\"Recall = {recall}\")"
      ],
      "execution_count": 13,
      "outputs": [
        {
          "output_type": "stream",
          "name": "stdout",
          "text": [
            "Precision = 1.0\n",
            "Recall = 1.0\n"
          ]
        }
      ]
    },
    {
      "cell_type": "code",
      "metadata": {
        "colab": {
          "base_uri": "https://localhost:8080/"
        },
        "id": "htC7t2gscVs8",
        "outputId": "8dd4daab-5e04-4ac4-fcca-e8797d0f5e23"
      },
      "source": [
        "output = model.predict([[2, 2, 1, 2]])\n",
        "print(f\"Prediction = {output}\")"
      ],
      "execution_count": 14,
      "outputs": [
        {
          "output_type": "stream",
          "name": "stdout",
          "text": [
            "Prediction = [1]\n"
          ]
        }
      ]
    },
    {
      "cell_type": "code",
      "metadata": {
        "colab": {
          "base_uri": "https://localhost:8080/"
        },
        "id": "Se34NZsqcYJF",
        "outputId": "92ee28a1-fdba-48ec-8a1b-f073f8c421ce"
      },
      "source": [
        "output = model.predict([[0, 1, 1, 2]])\n",
        "print(f\"Prediction = {output}\")"
      ],
      "execution_count": 15,
      "outputs": [
        {
          "output_type": "stream",
          "name": "stdout",
          "text": [
            "Prediction = [1]\n"
          ]
        }
      ]
    }
  ]
}