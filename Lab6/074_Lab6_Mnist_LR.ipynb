{
  "nbformat": 4,
  "nbformat_minor": 0,
  "metadata": {
    "colab": {
      "name": " 074_Lab6_Mnist_LR.ipynb",
      "provenance": []
    },
    "kernelspec": {
      "name": "python3",
      "display_name": "Python 3"
    },
    "language_info": {
      "name": "python"
    }
  },
  "cells": [
    {
      "cell_type": "code",
      "metadata": {
        "id": "kmI2S-d6_VgQ"
      },
      "source": [
        "from __future__ import absolute_import, division, print_function\n",
        "import matplotlib.pyplot as plt\n",
        "%matplotlib inline\n",
        "import tensorflow as tf\n",
        "\n",
        "import numpy as np \n",
        "import pandas as pd \n",
        "import io\n",
        "import matplotlib.pyplot as plt"
      ],
      "execution_count": 1,
      "outputs": []
    },
    {
      "cell_type": "code",
      "metadata": {
        "colab": {
          "base_uri": "https://localhost:8080/"
        },
        "id": "K9x9wT13BHUx",
        "outputId": "408427e9-cb80-439d-c11b-cb1437b69237"
      },
      "source": [
        "from tensorflow.keras.datasets import mnist\n",
        "\n",
        "(x_train, y_train), (x_test, y_test) = mnist.load_data()\n",
        "\n",
        "x_train = np.array(x_train, np.float32)\n",
        "x_test = np.array(x_test, np.float32)\n",
        "\n",
        "num_features=784\n",
        "x_train = x_train.reshape(60000, num_features)\n",
        "x_test = x_test.reshape(10000, num_features)\n",
        "\n",
        "x_train = x_train / 255\n",
        "x_test = x_test /255\n",
        "\n",
        "x_train"
      ],
      "execution_count": 2,
      "outputs": [
        {
          "output_type": "stream",
          "name": "stdout",
          "text": [
            "Downloading data from https://storage.googleapis.com/tensorflow/tf-keras-datasets/mnist.npz\n",
            "11493376/11490434 [==============================] - 0s 0us/step\n",
            "11501568/11490434 [==============================] - 0s 0us/step\n"
          ]
        },
        {
          "output_type": "execute_result",
          "data": {
            "text/plain": [
              "array([[0., 0., 0., ..., 0., 0., 0.],\n",
              "       [0., 0., 0., ..., 0., 0., 0.],\n",
              "       [0., 0., 0., ..., 0., 0., 0.],\n",
              "       ...,\n",
              "       [0., 0., 0., ..., 0., 0., 0.],\n",
              "       [0., 0., 0., ..., 0., 0., 0.],\n",
              "       [0., 0., 0., ..., 0., 0., 0.]], dtype=float32)"
            ]
          },
          "metadata": {},
          "execution_count": 2
        }
      ]
    },
    {
      "cell_type": "code",
      "metadata": {
        "colab": {
          "base_uri": "https://localhost:8080/"
        },
        "id": "SEx22NDlBRE_",
        "outputId": "0c9c26e2-72d3-4629-8729-a850793f33a6"
      },
      "source": [
        "x_test"
      ],
      "execution_count": 3,
      "outputs": [
        {
          "output_type": "execute_result",
          "data": {
            "text/plain": [
              "array([[0., 0., 0., ..., 0., 0., 0.],\n",
              "       [0., 0., 0., ..., 0., 0., 0.],\n",
              "       [0., 0., 0., ..., 0., 0., 0.],\n",
              "       ...,\n",
              "       [0., 0., 0., ..., 0., 0., 0.],\n",
              "       [0., 0., 0., ..., 0., 0., 0.],\n",
              "       [0., 0., 0., ..., 0., 0., 0.]], dtype=float32)"
            ]
          },
          "metadata": {},
          "execution_count": 3
        }
      ]
    },
    {
      "cell_type": "code",
      "metadata": {
        "colab": {
          "base_uri": "https://localhost:8080/"
        },
        "id": "-WCgurUbBS7J",
        "outputId": "e5513c57-9d98-472a-c2c8-9b855e4421d0"
      },
      "source": [
        "x_train.shape"
      ],
      "execution_count": 4,
      "outputs": [
        {
          "output_type": "execute_result",
          "data": {
            "text/plain": [
              "(60000, 784)"
            ]
          },
          "metadata": {},
          "execution_count": 4
        }
      ]
    },
    {
      "cell_type": "code",
      "metadata": {
        "colab": {
          "base_uri": "https://localhost:8080/"
        },
        "id": "2hna-aGqBUUU",
        "outputId": "046a5ece-c7cf-47b0-8b4d-33bf5e2284e7"
      },
      "source": [
        "x_test.shape"
      ],
      "execution_count": 5,
      "outputs": [
        {
          "output_type": "execute_result",
          "data": {
            "text/plain": [
              "(10000, 784)"
            ]
          },
          "metadata": {},
          "execution_count": 5
        }
      ]
    },
    {
      "cell_type": "code",
      "metadata": {
        "colab": {
          "base_uri": "https://localhost:8080/"
        },
        "id": "_VW2HzuBBXnu",
        "outputId": "e4279d4b-3f46-4526-d4ce-b50c617731b4"
      },
      "source": [
        "y_train.shape"
      ],
      "execution_count": 6,
      "outputs": [
        {
          "output_type": "execute_result",
          "data": {
            "text/plain": [
              "(60000,)"
            ]
          },
          "metadata": {},
          "execution_count": 6
        }
      ]
    },
    {
      "cell_type": "code",
      "metadata": {
        "id": "djkel2v0BZBZ"
      },
      "source": [
        "num_classes = 10\n",
        "\n",
        "num_features = 784\n",
        "\n",
        "learning_rate = 0.01\n",
        "\n",
        "training_steps = 1000\n",
        "\n",
        "batch_size = 256\n",
        "\n",
        "display_step = 50"
      ],
      "execution_count": 7,
      "outputs": []
    },
    {
      "cell_type": "code",
      "metadata": {
        "id": "oI3p2P3bBgML"
      },
      "source": [
        "num_batches = int(x_train.shape[0] / batch_size)\n",
        "train_data = tf.data.Dataset.from_tensor_slices((x_train, y_train))\n",
        "train_data = train_data.repeat().shuffle(5000).batch(batch_size).prefetch(1)"
      ],
      "execution_count": 8,
      "outputs": []
    },
    {
      "cell_type": "code",
      "metadata": {
        "id": "lG9GBfuKBlM0"
      },
      "source": [
        "W = tf.Variable(np.random.randn(784, 10).astype(np.float32))\n",
        "\n",
        "B = tf.Variable(np.random.randn(10).astype(np.float32))\n"
      ],
      "execution_count": 9,
      "outputs": []
    },
    {
      "cell_type": "code",
      "metadata": {
        "id": "G0NbYa_bBoHy"
      },
      "source": [
        "def logistic_regression(x):\n",
        "    return tf.nn.softmax(tf.add(tf.matmul(x, W), B))\n",
        "    \n",
        "def cross_entropy(y_pred, y_true):\n",
        "\n",
        "    y_true = tf.one_hot(y_true, depth = num_classes)\n",
        "\n",
        "    y_pred = tf.clip_by_value(y_pred, 1e-9, 1.)    \n",
        "\n",
        "    loss = tf.reduce_mean(-tf.reduce_sum(y_true * tf.math.log(y_pred)))\n",
        "    return loss\n",
        "    "
      ],
      "execution_count": 10,
      "outputs": []
    },
    {
      "cell_type": "code",
      "metadata": {
        "id": "PERUPf-VBu5c"
      },
      "source": [
        "def accuracy(y_pred, y_true):\n",
        "  correct_prediction = tf.equal(tf.argmax(y_pred, 1), tf.cast(y_true, tf.int64))\n",
        "  return tf.reduce_mean(tf.cast(correct_prediction, tf.float32))"
      ],
      "execution_count": 11,
      "outputs": []
    },
    {
      "cell_type": "code",
      "metadata": {
        "id": "eraQbDR1ByM4"
      },
      "source": [
        "optimizer = tf.optimizers.SGD(learning_rate)\n",
        "\n",
        "def run_optimization(x, y):\n",
        "    with tf.GradientTape() as g:\n",
        "        pred = logistic_regression(x)\n",
        "        loss = cross_entropy(pred, y)\n",
        "\n",
        "    gradients = g.gradient(loss, [W, B])\n",
        "    optimizer.apply_gradients(zip(gradients, [W, B]))\n"
      ],
      "execution_count": 12,
      "outputs": []
    },
    {
      "cell_type": "code",
      "metadata": {
        "colab": {
          "base_uri": "https://localhost:8080/"
        },
        "id": "wYse8iz8B3Um",
        "outputId": "ce772bab-03bd-4f55-b503-d854baa1ad79"
      },
      "source": [
        "for step, (batch_x, batch_y) in enumerate(train_data.take(training_steps), 1):\n",
        "\n",
        "    run_optimization(batch_x, batch_y)\n",
        "    if step % display_step == 0:\n",
        "\n",
        "        pred = logistic_regression(batch_x)\n",
        "        loss = cross_entropy(pred, batch_y)\n",
        "        acc = accuracy(pred, batch_y)\n",
        "        print(f\"step: {step}, loss: {loss}, accuracy: {acc}\")\n"
      ],
      "execution_count": 13,
      "outputs": [
        {
          "output_type": "stream",
          "name": "stdout",
          "text": [
            "step: 50, loss: 326.7994384765625, accuracy: 0.7734375\n",
            "step: 100, loss: 141.368408203125, accuracy: 0.890625\n",
            "step: 150, loss: 190.04734802246094, accuracy: 0.8203125\n",
            "step: 200, loss: 106.4253158569336, accuracy: 0.87890625\n",
            "step: 250, loss: 117.43205261230469, accuracy: 0.890625\n",
            "step: 300, loss: 140.68804931640625, accuracy: 0.91796875\n",
            "step: 350, loss: 263.34991455078125, accuracy: 0.83984375\n",
            "step: 400, loss: 81.66917419433594, accuracy: 0.8984375\n",
            "step: 450, loss: 75.05609130859375, accuracy: 0.93359375\n",
            "step: 500, loss: 249.3470458984375, accuracy: 0.828125\n",
            "step: 550, loss: 258.92767333984375, accuracy: 0.8046875\n",
            "step: 600, loss: 81.95301818847656, accuracy: 0.91015625\n",
            "step: 650, loss: 107.12532043457031, accuracy: 0.91796875\n",
            "step: 700, loss: 73.60589599609375, accuracy: 0.9296875\n",
            "step: 750, loss: 125.22872161865234, accuracy: 0.9140625\n",
            "step: 800, loss: 84.41012573242188, accuracy: 0.921875\n",
            "step: 850, loss: 93.07411193847656, accuracy: 0.921875\n",
            "step: 900, loss: 87.3175277709961, accuracy: 0.91796875\n",
            "step: 950, loss: 88.91535949707031, accuracy: 0.921875\n",
            "step: 1000, loss: 117.6490249633789, accuracy: 0.921875\n"
          ]
        }
      ]
    },
    {
      "cell_type": "code",
      "metadata": {
        "colab": {
          "base_uri": "https://localhost:8080/"
        },
        "id": "dsETiEHOB-Fk",
        "outputId": "e62182f9-3a07-4f8c-bfda-1f1ff98cd91d"
      },
      "source": [
        "pred = logistic_regression(x_test)\n",
        "a = accuracy(pred, y_test)\n",
        "print(f\"Accuracy: {a}\")"
      ],
      "execution_count": 14,
      "outputs": [
        {
          "output_type": "stream",
          "name": "stdout",
          "text": [
            "Accuracy: 0.9032999873161316\n"
          ]
        }
      ]
    }
  ]
}