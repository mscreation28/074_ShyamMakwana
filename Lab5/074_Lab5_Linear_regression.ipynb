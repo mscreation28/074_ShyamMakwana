{
  "nbformat": 4,
  "nbformat_minor": 0,
  "metadata": {
    "colab": {
      "name": "074_Lab5_Linear_regression.ipynb",
      "provenance": []
    },
    "kernelspec": {
      "name": "python3",
      "display_name": "Python 3"
    },
    "language_info": {
      "name": "python"
    }
  },
  "cells": [
    {
      "cell_type": "code",
      "metadata": {
        "id": "1qv3QCP4GOdQ"
      },
      "source": [
        "import numpy as np\n",
        "import matplotlib.pyplot as plt"
      ],
      "execution_count": 11,
      "outputs": []
    },
    {
      "cell_type": "code",
      "metadata": {
        "id": "n1w3HdR_IFoc"
      },
      "source": [
        "inputs = np.array([[73, 67, 43], [91, 88, 64], [87, 134, 58], [102, 43, 37], [69, 96, 70], [73, 67, 43], [91, 88, 64], [87, 134, 58], [102, 43, 37], [69, 96, 70], [73, 67, 43], [91, 88, 64], [87, 134, 58], [102, 43, 37], [69, 96, 70]], dtype='float32')\n",
        "\n",
        "targets = np.array([[56], [81], [119], [22], [103], \n",
        "                    [56], [81], [119], [22], [103], \n",
        "                    [56], [81], [119], [22], [103]], dtype='float32')"
      ],
      "execution_count": 2,
      "outputs": []
    },
    {
      "cell_type": "code",
      "metadata": {
        "colab": {
          "base_uri": "https://localhost:8080/"
        },
        "id": "DSt5lyjBILQt",
        "outputId": "b930a377-474c-4522-d346-2776d09c8c9e"
      },
      "source": [
        "mu = np.mean(inputs, 0)\n",
        "sigma = np.std(inputs, 0)\n",
        "\n",
        "X = (inputs-mu) / sigma\n",
        "X = np.hstack((np.ones((targets.size,1)),X))\n",
        "print(X.shape)"
      ],
      "execution_count": 3,
      "outputs": [
        {
          "output_type": "stream",
          "name": "stdout",
          "text": [
            "(15, 4)\n"
          ]
        }
      ]
    },
    {
      "cell_type": "code",
      "metadata": {
        "colab": {
          "base_uri": "https://localhost:8080/"
        },
        "id": "2EL9K9SMJFYX",
        "outputId": "9dbe35de-8faa-4a31-bded-d8897d242f56"
      },
      "source": [
        "rg = np.random.default_rng(15)\n",
        "w = rg.random((1, 4))\n",
        "print(w)"
      ],
      "execution_count": 7,
      "outputs": [
        {
          "output_type": "stream",
          "name": "stdout",
          "text": [
            "[[0.69274337 0.81581711 0.34440676 0.04483818]]\n"
          ]
        }
      ]
    },
    {
      "cell_type": "code",
      "metadata": {
        "id": "f5RRV5PBJalA"
      },
      "source": [
        "def mse(t1, t2):\n",
        "    diff = t1 - t2\n",
        "    return np.sum(diff * diff) / diff.size"
      ],
      "execution_count": 5,
      "outputs": []
    },
    {
      "cell_type": "code",
      "metadata": {
        "colab": {
          "base_uri": "https://localhost:8080/"
        },
        "id": "pC9jcvBoJul0",
        "outputId": "cfe6f3eb-f3b4-41a6-83e3-c46380f6d4c6"
      },
      "source": [
        "def model(x,w):\n",
        "    return x @ w.T\n",
        "\n",
        "preds = model(X,w)\n",
        "cost_initial = mse(preds, targets)\n",
        "print(\"Cost before regression is : \", cost_initial)"
      ],
      "execution_count": 8,
      "outputs": [
        {
          "output_type": "stream",
          "name": "stdout",
          "text": [
            "Cost before regression is :  6887.141532489184\n"
          ]
        }
      ]
    },
    {
      "cell_type": "code",
      "metadata": {
        "id": "s4l_IvqIKrtU"
      },
      "source": [
        "def gradient_descent(X, y, w, learning_rate, n_iters):\n",
        "    history = np.zeros((n_iters, 1))\n",
        "    for i in range(n_iters):\n",
        "        h = model(X, w)\n",
        "        diff = h - y\n",
        "        delta = (learning_rate / targets.size) * (X.T@diff)\n",
        "        new_w = w - delta.T\n",
        "        w = new_w\n",
        "        history[i] = mse(h, y)\n",
        "    return (history, w)"
      ],
      "execution_count": 10,
      "outputs": []
    },
    {
      "cell_type": "code",
      "metadata": {
        "colab": {
          "base_uri": "https://localhost:8080/"
        },
        "id": "TnqLjn27LJsD",
        "outputId": "94f224ab-75f5-4779-f420-de869a5d9528"
      },
      "source": [
        "n_iters = 250\n",
        "learning_rate = 0.01\n",
        "\n",
        "initial_cost = mse(model(X, w),targets)\n",
        "\n",
        "print(\"intial cost is: \", initial_cost, \"\\n\")\n",
        "\n",
        "(history, optimal_params) = gradient_descent(X, targets, w, learning_rate, n_iters)\n",
        "\n",
        "print(\"optimal parameters are: \\n\", optimal_params, \"\\n\")\n",
        "\n",
        "print(\"final cost is: \", history[-1])"
      ],
      "execution_count": 12,
      "outputs": [
        {
          "output_type": "stream",
          "name": "stdout",
          "text": [
            "intial cost is:  6887.141532489184 \n",
            "\n",
            "optimal parameters are: \n",
            " [[70.07949388 -4.7960194  21.59222949 12.27859736]] \n",
            "\n",
            "final cost is:  [48.88238057]\n"
          ]
        }
      ]
    },
    {
      "cell_type": "code",
      "metadata": {
        "colab": {
          "base_uri": "https://localhost:8080/",
          "height": 295
        },
        "id": "zOJV0-t1Lwwg",
        "outputId": "044d3b24-f160-4b55-acd5-21d2543021f5"
      },
      "source": [
        "plt.plot(range(len(history)), history, 'g')\n",
        "\n",
        "plt.title(\"Graph of Cost Function\")\n",
        "plt.xlabel(\"Number of Iterations\")\n",
        "plt.ylabel(\"Cost\")\n",
        "plt.show()"
      ],
      "execution_count": 14,
      "outputs": [
        {
          "output_type": "display_data",
          "data": {
            "image/png": "[encoded data removed]",
            "text/plain": [
              "<Figure size 432x288 with 1 Axes>"
            ]
          },
          "metadata": {
            "needs_background": "light"
          }
        }
      ]
    },
    {
      "cell_type": "code",
      "metadata": {
        "colab": {
          "base_uri": "https://localhost:8080/"
        },
        "id": "PtsYYgOuMWrg",
        "outputId": "1321312b-f469-4f69-c911-7a065cbd2c28"
      },
      "source": [
        "preds = model(X, optimal_params)\n",
        "cost_final = mse(preds, targets)\n",
        "\n",
        "print(\"Prediction:\\n\",preds)\n",
        "print(\"Targets:\\n\", targets)"
      ],
      "execution_count": 15,
      "outputs": [
        {
          "output_type": "stream",
          "name": "stdout",
          "text": [
            "Prediction:\n",
            " [[ 50.19847609]\n",
            " [ 78.59035344]\n",
            " [106.9723644 ]\n",
            " [ 15.7185604 ]\n",
            " [ 98.9177151 ]\n",
            " [ 50.19847609]\n",
            " [ 78.59035344]\n",
            " [106.9723644 ]\n",
            " [ 15.7185604 ]\n",
            " [ 98.9177151 ]\n",
            " [ 50.19847609]\n",
            " [ 78.59035344]\n",
            " [106.9723644 ]\n",
            " [ 15.7185604 ]\n",
            " [ 98.9177151 ]]\n",
            "Targets:\n",
            " [[ 56.]\n",
            " [ 81.]\n",
            " [119.]\n",
            " [ 22.]\n",
            " [103.]\n",
            " [ 56.]\n",
            " [ 81.]\n",
            " [119.]\n",
            " [ 22.]\n",
            " [103.]\n",
            " [ 56.]\n",
            " [ 81.]\n",
            " [119.]\n",
            " [ 22.]\n",
            " [103.]]\n"
          ]
        }
      ]
    },
    {
      "cell_type": "code",
      "metadata": {
        "colab": {
          "base_uri": "https://localhost:8080/"
        },
        "id": "T6GJgaNtMr37",
        "outputId": "cd72f312-fc50-42df-a4a0-8f1d3575ff4d"
      },
      "source": [
        "print(\"Cost after linear regression: \", cost_final)\n",
        "print(\"Cost reduction : {} %\".format(((cost_initial- cost_final) / cost_initial) * 100))"
      ],
      "execution_count": 16,
      "outputs": [
        {
          "output_type": "stream",
          "name": "stdout",
          "text": [
            "Cost after linear regression:  48.0499255559876\n",
            "Cost reduction : 99.30232411619075 %\n"
          ]
        }
      ]
    }
  ]
}