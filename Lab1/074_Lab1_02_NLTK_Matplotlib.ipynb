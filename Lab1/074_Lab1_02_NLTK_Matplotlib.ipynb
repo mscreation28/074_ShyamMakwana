{
  "nbformat": 4,
  "nbformat_minor": 0,
  "metadata": {
    "colab": {
      "name": "074_Lab1_02_NLTK_Matplotlib.ipynb",
      "provenance": [],
      "collapsed_sections": []
    },
    "kernelspec": {
      "name": "python3",
      "display_name": "Python 3"
    },
    "language_info": {
      "name": "python"
    }
  },
  "cells": [
    {
      "cell_type": "code",
      "metadata": {
        "id": "g_3St4FMwaYV"
      },
      "source": [
        "import nltk\n",
        "import matplotlib.pyplot as plt\n",
        "import pandas as pd"
      ],
      "execution_count": 1,
      "outputs": []
    },
    {
      "cell_type": "code",
      "metadata": {
        "colab": {
          "base_uri": "https://localhost:8080/"
        },
        "id": "CrnsX7w1wmLG",
        "outputId": "766ed18c-3c2e-41f3-e2cc-0d5692094727"
      },
      "source": [
        "text = \"\"\"Lorem Ipsum is simply dummy text of the printing and typesetting industry. @Lorem Ipsum has been the industry's standard #dummy text ever since the #1500s, https://www.lipsum.com/\"\"\"\n",
        "\n",
        "import re\n",
        "import string\n",
        "from nltk.corpus import stopwords\n",
        "from nltk.stem import PorterStemmer\n",
        "from nltk.tokenize import TweetTokenizer\n",
        "\n",
        "remove_text = re.sub(f'https?:\\/\\/.*[\\r\\n]*', '', text)\n",
        "remove_text = re.sub(r'#', '', remove_text)\n",
        "print(remove_text)"
      ],
      "execution_count": 2,
      "outputs": [
        {
          "output_type": "stream",
          "name": "stdout",
          "text": [
            "Lorem Ipsum is simply dummy text of the printing and typesetting industry. @Lorem Ipsum has been the industry's standard dummy text ever since the 1500s, \n"
          ]
        }
      ]
    },
    {
      "cell_type": "code",
      "metadata": {
        "colab": {
          "base_uri": "https://localhost:8080/"
        },
        "id": "QPW2KBxlxTxI",
        "outputId": "a1395e62-bbfc-4862-8301-ed243a3a2a35"
      },
      "source": [
        "print('\\033[92m' + text)\n",
        "print('\\033[92m' + remove_text)"
      ],
      "execution_count": 4,
      "outputs": [
        {
          "output_type": "stream",
          "name": "stdout",
          "text": [
            "\u001b[92mLorem Ipsum is simply dummy text of the printing and typesetting industry. @Lorem Ipsum has been the industry's standard #dummy text ever since the #1500s, https://www.lipsum.com/\n",
            "\u001b[92mLorem Ipsum is simply dummy text of the printing and typesetting industry. @Lorem Ipsum has been the industry's standard dummy text ever since the 1500s, \n"
          ]
        }
      ]
    },
    {
      "cell_type": "code",
      "metadata": {
        "colab": {
          "base_uri": "https://localhost:8080/"
        },
        "id": "tw2QWfbBx1vL",
        "outputId": "edec324e-1580-4fbe-8602-a0d8f0a5c31b"
      },
      "source": [
        "from nltk.tokenize import sent_tokenize\n",
        "\n",
        "text = \"\"\"Hello Dr. starnge, how are you? Look like, city is under attack. What's your plan? The thanos is coming. What should we do?\"\"\"\n",
        "nltk.download('punkt')\n",
        "tokenized_text = sent_tokenize(text)\n",
        "print(tokenized_text)"
      ],
      "execution_count": 5,
      "outputs": [
        {
          "output_type": "stream",
          "name": "stdout",
          "text": [
            "[nltk_data] Downloading package punkt to /root/nltk_data...\n",
            "[nltk_data]   Unzipping tokenizers/punkt.zip.\n",
            "['Hello Dr. starnge, how are you?', 'Look like, city is under attack.', \"What's your plan?\", 'The thanos is coming.', 'What should we do?']\n"
          ]
        }
      ]
    },
    {
      "cell_type": "code",
      "metadata": {
        "colab": {
          "base_uri": "https://localhost:8080/"
        },
        "id": "k42FolDLyYMu",
        "outputId": "6248597a-56ac-41eb-e9f4-917e855d5d15"
      },
      "source": [
        "from nltk.tokenize import word_tokenize\n",
        "tokenized_word = word_tokenize(text)\n",
        "\n",
        "print(tokenized_word)"
      ],
      "execution_count": 6,
      "outputs": [
        {
          "output_type": "stream",
          "name": "stdout",
          "text": [
            "['Hello', 'Dr.', 'starnge', ',', 'how', 'are', 'you', '?', 'Look', 'like', ',', 'city', 'is', 'under', 'attack', '.', 'What', \"'s\", 'your', 'plan', '?', 'The', 'thanos', 'is', 'coming', '.', 'What', 'should', 'we', 'do', '?']\n"
          ]
        }
      ]
    },
    {
      "cell_type": "code",
      "metadata": {
        "colab": {
          "base_uri": "https://localhost:8080/",
          "height": 307
        },
        "id": "OMCG3rXiybZK",
        "outputId": "90c8e576-75e0-44b9-a047-56b82171cd78"
      },
      "source": [
        "from nltk.probability import FreqDist\n",
        "fredist = FreqDist(tokenized_word)\n",
        "fredist.most_common(4)\n",
        "\n",
        "import matplotlib.pyplot as plt\n",
        "fredist.plot(30, cumulative = False, color = 'red')\n",
        "plt.show()"
      ],
      "execution_count": 7,
      "outputs": [
        {
          "output_type": "display_data",
          "data": {
            "image/png": "[encoded data removed]",
            "text/plain": [
              "<Figure size 432x288 with 1 Axes>"
            ]
          },
          "metadata": {
            "needs_background": "light"
          }
        }
      ]
    },
    {
      "cell_type": "code",
      "metadata": {
        "colab": {
          "base_uri": "https://localhost:8080/"
        },
        "id": "hjWChJkGykyI",
        "outputId": "0d6b117a-89fd-47f9-fd08-e5dc6d3a1f20"
      },
      "source": [
        "from nltk.corpus import stopwords\n",
        "nltk.download('stopwords')\n",
        "stop_words = set(stopwords.words('english'))\n",
        "print(stop_words)"
      ],
      "execution_count": 8,
      "outputs": [
        {
          "output_type": "stream",
          "name": "stdout",
          "text": [
            "[nltk_data] Downloading package stopwords to /root/nltk_data...\n",
            "[nltk_data]   Unzipping corpora/stopwords.zip.\n",
            "{'to', \"wasn't\", \"couldn't\", 'few', 'couldn', \"hasn't\", 'wasn', 'or', 'before', 'when', 'while', 'between', \"weren't\", 'wouldn', 'we', 'not', \"hadn't\", 'o', 're', \"mustn't\", 'theirs', 'too', 'this', 'won', 'their', 'more', \"you're\", 'her', 'needn', 'there', 'shouldn', \"shan't\", 'no', 'being', 'yours', 'its', 'any', 'don', 'hers', 'mustn', 'themselves', \"haven't\", 'herself', 'these', 'll', 'and', \"you'd\", 'is', 'than', 'are', 'they', 'itself', 'own', 'by', 'nor', \"that'll\", 'under', 'such', 's', 'ain', 'during', \"aren't\", 've', \"doesn't\", 'has', 'our', 'you', 'again', 't', \"don't\", 'only', \"shouldn't\", 'did', 'that', 'was', \"you'll\", 'those', 'd', 'doesn', 'ours', 'does', 'am', 'him', 'whom', 'into', 'can', \"should've\", 'himself', 'for', 'further', 'isn', 'weren', 'now', 'been', \"won't\", 'how', \"you've\", 'a', 'through', 'have', 'hadn', 'm', \"didn't\", 'had', 'on', 'the', 'where', 'each', 'from', 'will', 'your', 'off', 'were', 'same', 'myself', 'below', 'against', 'what', \"she's\", 'most', 'mightn', 'i', 'other', 'in', 'all', 'shan', 'me', 'some', 'at', 'out', 'so', 'yourself', 'here', 'over', 'should', 'hasn', 'an', 'as', 'ourselves', 'if', 'he', 'who', \"mightn't\", 'just', 'above', 'up', 'why', 'yourselves', 'with', 'didn', 'my', 'his', 'it', 'then', 'once', 'but', 'having', 'down', 'be', 'ma', 'because', 'doing', \"it's\", 'haven', 'both', \"wouldn't\", 'them', 'she', 'until', 'which', 'after', 'very', 'do', 'about', 'y', \"needn't\", 'aren', 'of', \"isn't\"}\n"
          ]
        }
      ]
    },
    {
      "cell_type": "code",
      "metadata": {
        "colab": {
          "base_uri": "https://localhost:8080/"
        },
        "id": "5VSCsw-nysVa",
        "outputId": "18b88bca-dca4-4d15-f63a-96ebf0ce54bf"
      },
      "source": [
        "filtered_sentence = []\n",
        "for word in tokenized_word:\n",
        "  if word not in stop_words:\n",
        "    filtered_sentence.append(word)\n",
        "print('Tokenized Sentence : \\n', tokenized_word)\n",
        "print('\\n')\n",
        "print('Filtered Sentence : \\n', filtered_sentence)"
      ],
      "execution_count": 9,
      "outputs": [
        {
          "output_type": "stream",
          "name": "stdout",
          "text": [
            "Tokenized Sentence : \n",
            " ['Hello', 'Dr.', 'starnge', ',', 'how', 'are', 'you', '?', 'Look', 'like', ',', 'city', 'is', 'under', 'attack', '.', 'What', \"'s\", 'your', 'plan', '?', 'The', 'thanos', 'is', 'coming', '.', 'What', 'should', 'we', 'do', '?']\n",
            "\n",
            "\n",
            "Filtered Sentence : \n",
            " ['Hello', 'Dr.', 'starnge', ',', '?', 'Look', 'like', ',', 'city', 'attack', '.', 'What', \"'s\", 'plan', '?', 'The', 'thanos', 'coming', '.', 'What', '?']\n"
          ]
        }
      ]
    },
    {
      "cell_type": "code",
      "metadata": {
        "colab": {
          "base_uri": "https://localhost:8080/"
        },
        "id": "s4pCbLSWyya5",
        "outputId": "1c8cab7e-2ab5-4b61-de83-1ecd01706739"
      },
      "source": [
        "from nltk.stem import PorterStemmer\n",
        "from nltk.tokenize import sent_tokenize, word_tokenize\n",
        "\n",
        "ps = PorterStemmer()\n",
        "stemmed_sentence = []\n",
        "for word in filtered_sentence:\n",
        "  stemmed_sentence.append(ps.stem(word))\n",
        "\n",
        "print('Filtered Sentence : \\n', filtered_sentence)\n",
        "print('\\n')\n",
        "print('Stemmed Sentence : \\n', stemmed_sentence)"
      ],
      "execution_count": 10,
      "outputs": [
        {
          "output_type": "stream",
          "name": "stdout",
          "text": [
            "Filtered Sentence : \n",
            " ['Hello', 'Dr.', 'starnge', ',', '?', 'Look', 'like', ',', 'city', 'attack', '.', 'What', \"'s\", 'plan', '?', 'The', 'thanos', 'coming', '.', 'What', '?']\n",
            "\n",
            "\n",
            "Stemmed Sentence : \n",
            " ['hello', 'dr.', 'starng', ',', '?', 'look', 'like', ',', 'citi', 'attack', '.', 'what', \"'s\", 'plan', '?', 'the', 'thano', 'come', '.', 'what', '?']\n"
          ]
        }
      ]
    },
    {
      "cell_type": "code",
      "metadata": {
        "colab": {
          "base_uri": "https://localhost:8080/"
        },
        "id": "yRwBaKyGy6G9",
        "outputId": "f458503b-ae16-4d09-e2e0-8be1c39cf610"
      },
      "source": [
        "from nltk.stem.wordnet import WordNetLemmatizer\n",
        "from nltk.stem.porter import PorterStemmer\n",
        "\n",
        "nltk.download('wordnet')\n",
        "lemmatizer = WordNetLemmatizer()\n",
        "\n",
        "ps = PorterStemmer()\n",
        "word = 'attacking'\n",
        "print('Lemmatized Word  :  ', lemmatizer.lemmatize(word, 'v'))\n",
        "print('Stemmed word  :  ', ps.stem(word))"
      ],
      "execution_count": 11,
      "outputs": [
        {
          "output_type": "stream",
          "name": "stdout",
          "text": [
            "[nltk_data] Downloading package wordnet to /root/nltk_data...\n",
            "[nltk_data]   Unzipping corpora/wordnet.zip.\n",
            "Lemmatized Word  :   attack\n",
            "Stemmed word  :   attack\n"
          ]
        }
      ]
    }
  ]
}